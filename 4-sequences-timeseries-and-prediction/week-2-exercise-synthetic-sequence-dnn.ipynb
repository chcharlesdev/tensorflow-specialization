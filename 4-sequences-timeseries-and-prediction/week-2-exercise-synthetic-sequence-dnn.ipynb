{
  "nbformat": 4,
  "nbformat_minor": 0,
  "metadata": {
    "colab": {
      "name": "S+P Week 2 Exercise Question.ipynb",
      "provenance": []
    },
    "kernelspec": {
      "name": "python3",
      "display_name": "Python 3"
    }
  },
  "cells": [
    {
      "cell_type": "code",
      "metadata": {
        "id": "D1J15Vh_1Jih",
        "colab_type": "code",
        "cellView": "both",
        "colab": {
          "base_uri": "https://localhost:8080/",
          "height": 956
        },
        "outputId": "b8c056cb-708a-413b-bc56-c844863adb9c"
      },
      "source": [
        "!pip install tf-nightly-2.0-preview\n"
      ],
      "execution_count": 2,
      "outputs": [
        {
          "output_type": "stream",
          "text": [
            "Collecting tf-nightly-2.0-preview\n",
            "\u001b[?25l  Downloading https://files.pythonhosted.org/packages/b8/be/e4e2cc0b4896648fe6d5e45dda6d8c3b784823301708cfe4ff96de9e01cf/tf_nightly_2.0_preview-2.0.0.dev20191002-cp36-cp36m-manylinux2010_x86_64.whl (95.2MB)\n",
            "\u001b[K     |████████████████████████████████| 95.2MB 96kB/s \n",
            "\u001b[?25hRequirement already satisfied: protobuf>=3.6.1 in /usr/local/lib/python3.6/dist-packages (from tf-nightly-2.0-preview) (3.10.0)\n",
            "Requirement already satisfied: gast==0.2.2 in /usr/local/lib/python3.6/dist-packages (from tf-nightly-2.0-preview) (0.2.2)\n",
            "Requirement already satisfied: astor>=0.6.0 in /usr/local/lib/python3.6/dist-packages (from tf-nightly-2.0-preview) (0.8.1)\n",
            "Requirement already satisfied: opt-einsum>=2.3.2 in /usr/local/lib/python3.6/dist-packages (from tf-nightly-2.0-preview) (3.1.0)\n",
            "Requirement already satisfied: google-pasta>=0.1.6 in /usr/local/lib/python3.6/dist-packages (from tf-nightly-2.0-preview) (0.1.8)\n",
            "Requirement already satisfied: grpcio>=1.8.6 in /usr/local/lib/python3.6/dist-packages (from tf-nightly-2.0-preview) (1.15.0)\n",
            "Requirement already satisfied: termcolor>=1.1.0 in /usr/local/lib/python3.6/dist-packages (from tf-nightly-2.0-preview) (1.1.0)\n",
            "Requirement already satisfied: numpy<2.0,>=1.16.0 in /usr/local/lib/python3.6/dist-packages (from tf-nightly-2.0-preview) (1.17.5)\n",
            "Requirement already satisfied: six>=1.10.0 in /usr/local/lib/python3.6/dist-packages (from tf-nightly-2.0-preview) (1.12.0)\n",
            "Collecting tensorflow-estimator-2.0-preview\n",
            "\u001b[?25l  Downloading https://files.pythonhosted.org/packages/db/f5/790508e193121ab301cb40cada7f451c531404051ac9249f21b1f5484450/tensorflow_estimator_2.0_preview-2.0.0-py2.py3-none-any.whl (449kB)\n",
            "\u001b[K     |████████████████████████████████| 450kB 47.3MB/s \n",
            "\u001b[?25hRequirement already satisfied: keras-preprocessing>=1.0.5 in /usr/local/lib/python3.6/dist-packages (from tf-nightly-2.0-preview) (1.1.0)\n",
            "Collecting tb-nightly<2.2.0a0,>=2.1.0a0\n",
            "\u001b[?25l  Downloading https://files.pythonhosted.org/packages/48/6b/b9e735120c77721570aed36cec55390827db0d580b14a5ffd93a4cce5997/tb_nightly-2.1.0a20191206-py3-none-any.whl (3.8MB)\n",
            "\u001b[K     |████████████████████████████████| 3.8MB 50.0MB/s \n",
            "\u001b[?25hRequirement already satisfied: wrapt>=1.11.1 in /usr/local/lib/python3.6/dist-packages (from tf-nightly-2.0-preview) (1.11.2)\n",
            "Requirement already satisfied: absl-py>=0.7.0 in /usr/local/lib/python3.6/dist-packages (from tf-nightly-2.0-preview) (0.9.0)\n",
            "Requirement already satisfied: wheel>=0.26; python_version >= \"3\" in /usr/local/lib/python3.6/dist-packages (from tf-nightly-2.0-preview) (0.33.6)\n",
            "Requirement already satisfied: keras-applications>=1.0.8 in /usr/local/lib/python3.6/dist-packages (from tf-nightly-2.0-preview) (1.0.8)\n",
            "Requirement already satisfied: setuptools in /usr/local/lib/python3.6/dist-packages (from protobuf>=3.6.1->tf-nightly-2.0-preview) (42.0.2)\n",
            "Collecting google-auth<2,>=1.6.3\n",
            "\u001b[?25l  Downloading https://files.pythonhosted.org/packages/8d/5f/a1a02695b96d0e09c38abf7d1576b137979cea3d060d60891622cf61276d/google_auth-1.10.1-py2.py3-none-any.whl (76kB)\n",
            "\u001b[K     |████████████████████████████████| 81kB 10.6MB/s \n",
            "\u001b[?25hRequirement already satisfied: werkzeug>=0.11.15 in /usr/local/lib/python3.6/dist-packages (from tb-nightly<2.2.0a0,>=2.1.0a0->tf-nightly-2.0-preview) (0.16.0)\n",
            "Requirement already satisfied: requests<3,>=2.21.0 in /usr/local/lib/python3.6/dist-packages (from tb-nightly<2.2.0a0,>=2.1.0a0->tf-nightly-2.0-preview) (2.21.0)\n",
            "Requirement already satisfied: markdown>=2.6.8 in /usr/local/lib/python3.6/dist-packages (from tb-nightly<2.2.0a0,>=2.1.0a0->tf-nightly-2.0-preview) (3.1.1)\n",
            "Requirement already satisfied: google-auth-oauthlib<0.5,>=0.4.1 in /usr/local/lib/python3.6/dist-packages (from tb-nightly<2.2.0a0,>=2.1.0a0->tf-nightly-2.0-preview) (0.4.1)\n",
            "Requirement already satisfied: h5py in /usr/local/lib/python3.6/dist-packages (from keras-applications>=1.0.8->tf-nightly-2.0-preview) (2.8.0)\n",
            "Requirement already satisfied: pyasn1-modules>=0.2.1 in /usr/local/lib/python3.6/dist-packages (from google-auth<2,>=1.6.3->tb-nightly<2.2.0a0,>=2.1.0a0->tf-nightly-2.0-preview) (0.2.7)\n",
            "Requirement already satisfied: cachetools<5.0,>=2.0.0 in /usr/local/lib/python3.6/dist-packages (from google-auth<2,>=1.6.3->tb-nightly<2.2.0a0,>=2.1.0a0->tf-nightly-2.0-preview) (4.0.0)\n",
            "Requirement already satisfied: rsa<4.1,>=3.1.4 in /usr/local/lib/python3.6/dist-packages (from google-auth<2,>=1.6.3->tb-nightly<2.2.0a0,>=2.1.0a0->tf-nightly-2.0-preview) (4.0)\n",
            "Requirement already satisfied: certifi>=2017.4.17 in /usr/local/lib/python3.6/dist-packages (from requests<3,>=2.21.0->tb-nightly<2.2.0a0,>=2.1.0a0->tf-nightly-2.0-preview) (2019.11.28)\n",
            "Requirement already satisfied: idna<2.9,>=2.5 in /usr/local/lib/python3.6/dist-packages (from requests<3,>=2.21.0->tb-nightly<2.2.0a0,>=2.1.0a0->tf-nightly-2.0-preview) (2.8)\n",
            "Requirement already satisfied: chardet<3.1.0,>=3.0.2 in /usr/local/lib/python3.6/dist-packages (from requests<3,>=2.21.0->tb-nightly<2.2.0a0,>=2.1.0a0->tf-nightly-2.0-preview) (3.0.4)\n",
            "Requirement already satisfied: urllib3<1.25,>=1.21.1 in /usr/local/lib/python3.6/dist-packages (from requests<3,>=2.21.0->tb-nightly<2.2.0a0,>=2.1.0a0->tf-nightly-2.0-preview) (1.24.3)\n",
            "Requirement already satisfied: requests-oauthlib>=0.7.0 in /usr/local/lib/python3.6/dist-packages (from google-auth-oauthlib<0.5,>=0.4.1->tb-nightly<2.2.0a0,>=2.1.0a0->tf-nightly-2.0-preview) (1.3.0)\n",
            "Requirement already satisfied: pyasn1<0.5.0,>=0.4.6 in /usr/local/lib/python3.6/dist-packages (from pyasn1-modules>=0.2.1->google-auth<2,>=1.6.3->tb-nightly<2.2.0a0,>=2.1.0a0->tf-nightly-2.0-preview) (0.4.8)\n",
            "Requirement already satisfied: oauthlib>=3.0.0 in /usr/local/lib/python3.6/dist-packages (from requests-oauthlib>=0.7.0->google-auth-oauthlib<0.5,>=0.4.1->tb-nightly<2.2.0a0,>=2.1.0a0->tf-nightly-2.0-preview) (3.1.0)\n",
            "\u001b[31mERROR: google-colab 1.0.0 has requirement google-auth~=1.4.0, but you'll have google-auth 1.10.1 which is incompatible.\u001b[0m\n",
            "\u001b[31mERROR: tb-nightly 2.1.0a20191206 has requirement grpcio>=1.24.3, but you'll have grpcio 1.15.0 which is incompatible.\u001b[0m\n",
            "Installing collected packages: tensorflow-estimator-2.0-preview, google-auth, tb-nightly, tf-nightly-2.0-preview\n",
            "  Found existing installation: google-auth 1.4.2\n",
            "    Uninstalling google-auth-1.4.2:\n",
            "      Successfully uninstalled google-auth-1.4.2\n",
            "Successfully installed google-auth-1.10.1 tb-nightly-2.1.0a20191206 tensorflow-estimator-2.0-preview-2.0.0 tf-nightly-2.0-preview-2.0.0.dev20191002\n"
          ],
          "name": "stdout"
        },
        {
          "output_type": "display_data",
          "data": {
            "application/vnd.colab-display-data+json": {
              "pip_warning": {
                "packages": [
                  "google",
                  "tensorboard",
                  "tensorflow",
                  "tensorflow_core",
                  "tensorflow_estimator"
                ]
              }
            }
          },
          "metadata": {
            "tags": []
          }
        }
      ]
    },
    {
      "cell_type": "code",
      "metadata": {
        "id": "BOjujz601HcS",
        "colab_type": "code",
        "colab": {
          "base_uri": "https://localhost:8080/",
          "height": 34
        },
        "outputId": "1dfc2bd7-45c5-4ac3-efb2-2b0a77e16e00"
      },
      "source": [
        "import tensorflow as tf\n",
        "import numpy as np\n",
        "import matplotlib.pyplot as plt\n",
        "print(tf.__version__)"
      ],
      "execution_count": 1,
      "outputs": [
        {
          "output_type": "stream",
          "text": [
            "2.0.0-dev20191002\n"
          ],
          "name": "stdout"
        }
      ]
    },
    {
      "cell_type": "code",
      "metadata": {
        "colab_type": "code",
        "id": "Zswl7jRtGzkk",
        "colab": {
          "base_uri": "https://localhost:8080/",
          "height": 279
        },
        "outputId": "027bfd65-da18-45a5-989a-305b2e5d8a81"
      },
      "source": [
        "def plot_series(time, series, format=\"-\", start=0, end=None):\n",
        "    plt.plot(time[start:end], series[start:end], format)\n",
        "    plt.xlabel(\"Time\")\n",
        "    plt.ylabel(\"Value\")\n",
        "    plt.grid(False)\n",
        "\n",
        "def trend(time, slope=0):\n",
        "    return slope * time\n",
        "\n",
        "def seasonal_pattern(season_time):\n",
        "    \"\"\"Just an arbitrary pattern, you can change it if you wish\"\"\"\n",
        "    return np.where(season_time < 0.1,\n",
        "                    np.cos(season_time * 2 * np.pi),\n",
        "                    2 / np.exp(4 * season_time))\n",
        "\n",
        "def seasonality(time, period, amplitude=1, phase=0):\n",
        "    \"\"\"Repeats the same pattern at each period\"\"\"\n",
        "    season_time = ((time + phase) % period) / period\n",
        "    return amplitude * seasonal_pattern(season_time)\n",
        "\n",
        "def noise(time, noise_level=1, seed=None):\n",
        "    rnd = np.random.RandomState(seed)\n",
        "    return rnd.randn(len(time)) * noise_level\n",
        "\n",
        "time = np.arange(10 * 365 + 1, dtype=\"float32\")\n",
        "baseline = 10\n",
        "series = trend(time, 0.1)  \n",
        "baseline = 0\n",
        "amplitude = 40\n",
        "slope = 0.007\n",
        "noise_level = 4\n",
        "\n",
        "# Create the series\n",
        "series = baseline + trend(time, slope) + seasonality(time, period=365, amplitude=amplitude)\n",
        "# Update with noise\n",
        "series += noise(time, noise_level, seed=51)\n",
        "\n",
        "split_time = 3000\n",
        "time_train = time[:split_time]\n",
        "x_train = series[:split_time]\n",
        "time_valid = time[split_time:]\n",
        "x_valid = series[split_time:]\n",
        "\n",
        "window_size = 20\n",
        "batch_size = 32\n",
        "shuffle_buffer_size = 1000\n",
        "\n",
        "plot_series(time, series)"
      ],
      "execution_count": 18,
      "outputs": [
        {
          "output_type": "display_data",
          "data": {
            "image/png": "[encoded data removed]",
            "text/plain": [
              "<Figure size 432x288 with 1 Axes>"
            ]
          },
          "metadata": {
            "tags": []
          }
        }
      ]
    },
    {
      "cell_type": "markdown",
      "metadata": {
        "id": "GfUTNqti_lNC",
        "colab_type": "text"
      },
      "source": [
        "Desired output -- a chart that looks like this:\n",
        "\n",
        "![Chart showing upward trend and seasonailty](http://www.laurencemoroney.com/wp-content/uploads/2019/07/plot1.png)"
      ]
    },
    {
      "cell_type": "code",
      "metadata": {
        "id": "4sTTIOCbyShY",
        "colab_type": "code",
        "colab": {}
      },
      "source": [
        "def windowed_dataset(series, window_size, batch_size, shuffle_buffer):\n",
        "  dataset = tf.data.Dataset.from_tensor_slices(series)\n",
        "  dataset = dataset.window(window_size + 1, shift=1, drop_remainder=True)\n",
        "  dataset = dataset.flat_map(lambda window: window.batch(window_size + 1))\n",
        "  dataset = dataset.shuffle(shuffle_buffer).map(lambda window: (window[:-1], window[-1]))\n",
        "  dataset = dataset.batch(batch_size).prefetch(1)\n",
        "  return dataset"
      ],
      "execution_count": 0,
      "outputs": []
    },
    {
      "cell_type": "code",
      "metadata": {
        "id": "TW-vT7eLYAdb",
        "colab_type": "code",
        "colab": {
          "base_uri": "https://localhost:8080/",
          "height": 1000
        },
        "outputId": "660237b8-e7c6-4dbf-d014-cf06c85dbc25"
      },
      "source": [
        "dataset = windowed_dataset(x_train, window_size, batch_size, shuffle_buffer_size)\n",
        "\n",
        "\n",
        "model = tf.keras.models.Sequential([\n",
        "    tf.keras.layers.Dense(64, input_shape=[window_size], activation='relu'),\n",
        "    tf.keras.layers.Dense(32, activation=\"relu\"), \n",
        "    tf.keras.layers.Dense(1)\n",
        "])\n",
        "optimizer = tf.keras.optimizers.SGD(lr=1e-6, momentum=0.9)\n",
        "model.compile(loss='mae', optimizer=optimizer)\n",
        "model.fit(dataset,epochs=100,verbose=1)\n",
        "\n"
      ],
      "execution_count": 26,
      "outputs": [
        {
          "output_type": "stream",
          "text": [
            "Epoch 1/100\n",
            "94/94 [==============================] - 1s 11ms/step - loss: 25.8250\n",
            "Epoch 2/100\n",
            "94/94 [==============================] - 1s 6ms/step - loss: 14.2522\n",
            "Epoch 3/100\n",
            "94/94 [==============================] - 0s 4ms/step - loss: 6.3627\n",
            "Epoch 4/100\n",
            "94/94 [==============================] - 0s 4ms/step - loss: 5.1292\n",
            "Epoch 5/100\n",
            "94/94 [==============================] - 0s 5ms/step - loss: 5.0612\n",
            "Epoch 6/100\n",
            "94/94 [==============================] - 0s 5ms/step - loss: 4.9975\n",
            "Epoch 7/100\n",
            "94/94 [==============================] - 0s 5ms/step - loss: 4.9682\n",
            "Epoch 8/100\n",
            "94/94 [==============================] - 0s 5ms/step - loss: 4.9161\n",
            "Epoch 9/100\n",
            "94/94 [==============================] - 1s 5ms/step - loss: 4.8974\n",
            "Epoch 10/100\n",
            "94/94 [==============================] - 0s 5ms/step - loss: 4.8571\n",
            "Epoch 11/100\n",
            "94/94 [==============================] - 0s 4ms/step - loss: 4.8185\n",
            "Epoch 12/100\n",
            "94/94 [==============================] - 0s 5ms/step - loss: 4.8196\n",
            "Epoch 13/100\n",
            "94/94 [==============================] - 0s 5ms/step - loss: 4.7772\n",
            "Epoch 14/100\n",
            "94/94 [==============================] - 0s 5ms/step - loss: 4.7710\n",
            "Epoch 15/100\n",
            "94/94 [==============================] - 0s 4ms/step - loss: 4.7967\n",
            "Epoch 16/100\n",
            "94/94 [==============================] - 0s 5ms/step - loss: 4.7212\n",
            "Epoch 17/100\n",
            "94/94 [==============================] - 0s 5ms/step - loss: 4.6892\n",
            "Epoch 18/100\n",
            "94/94 [==============================] - 0s 5ms/step - loss: 4.6652\n",
            "Epoch 19/100\n",
            "94/94 [==============================] - 0s 4ms/step - loss: 4.6351\n",
            "Epoch 20/100\n",
            "94/94 [==============================] - 0s 5ms/step - loss: 4.6305\n",
            "Epoch 21/100\n",
            "94/94 [==============================] - 0s 5ms/step - loss: 4.6750\n",
            "Epoch 22/100\n",
            "94/94 [==============================] - 0s 4ms/step - loss: 4.5923\n",
            "Epoch 23/100\n",
            "94/94 [==============================] - 0s 4ms/step - loss: 4.5988\n",
            "Epoch 24/100\n",
            "94/94 [==============================] - 0s 4ms/step - loss: 4.6231\n",
            "Epoch 25/100\n",
            "94/94 [==============================] - 0s 4ms/step - loss: 4.5582\n",
            "Epoch 26/100\n",
            "94/94 [==============================] - 0s 4ms/step - loss: 4.5058\n",
            "Epoch 27/100\n",
            "94/94 [==============================] - 0s 5ms/step - loss: 4.5321\n",
            "Epoch 28/100\n",
            "94/94 [==============================] - 0s 5ms/step - loss: 4.4816\n",
            "Epoch 29/100\n",
            "94/94 [==============================] - 0s 4ms/step - loss: 4.5441\n",
            "Epoch 30/100\n",
            "94/94 [==============================] - 0s 5ms/step - loss: 4.4829\n",
            "Epoch 31/100\n",
            "94/94 [==============================] - 0s 4ms/step - loss: 4.4824\n",
            "Epoch 32/100\n",
            "94/94 [==============================] - 0s 4ms/step - loss: 4.4445\n",
            "Epoch 33/100\n",
            "94/94 [==============================] - 0s 4ms/step - loss: 4.4216\n",
            "Epoch 34/100\n",
            "94/94 [==============================] - 0s 5ms/step - loss: 4.4594\n",
            "Epoch 35/100\n",
            "94/94 [==============================] - 0s 5ms/step - loss: 4.3984\n",
            "Epoch 36/100\n",
            "94/94 [==============================] - 0s 5ms/step - loss: 4.3756\n",
            "Epoch 37/100\n",
            "94/94 [==============================] - 0s 4ms/step - loss: 4.3690\n",
            "Epoch 38/100\n",
            "94/94 [==============================] - 0s 4ms/step - loss: 4.4169\n",
            "Epoch 39/100\n",
            "94/94 [==============================] - 0s 4ms/step - loss: 4.3356\n",
            "Epoch 40/100\n",
            "94/94 [==============================] - 0s 5ms/step - loss: 4.3897\n",
            "Epoch 41/100\n",
            "94/94 [==============================] - 1s 6ms/step - loss: 4.3326\n",
            "Epoch 42/100\n",
            "94/94 [==============================] - 0s 5ms/step - loss: 4.3570\n",
            "Epoch 43/100\n",
            "94/94 [==============================] - 0s 4ms/step - loss: 4.2940\n",
            "Epoch 44/100\n",
            "94/94 [==============================] - 0s 5ms/step - loss: 4.2927\n",
            "Epoch 45/100\n",
            "94/94 [==============================] - 1s 5ms/step - loss: 4.2844\n",
            "Epoch 46/100\n",
            "94/94 [==============================] - 0s 5ms/step - loss: 4.2763\n",
            "Epoch 47/100\n",
            "94/94 [==============================] - 1s 7ms/step - loss: 4.2879\n",
            "Epoch 48/100\n",
            "94/94 [==============================] - 0s 5ms/step - loss: 4.2627\n",
            "Epoch 49/100\n",
            "94/94 [==============================] - 1s 5ms/step - loss: 4.2819\n",
            "Epoch 50/100\n",
            "94/94 [==============================] - 0s 5ms/step - loss: 4.2568\n",
            "Epoch 51/100\n",
            "94/94 [==============================] - 1s 6ms/step - loss: 4.2405\n",
            "Epoch 52/100\n",
            "94/94 [==============================] - 1s 6ms/step - loss: 4.2402\n",
            "Epoch 53/100\n",
            "94/94 [==============================] - 1s 6ms/step - loss: 4.2246\n",
            "Epoch 54/100\n",
            "94/94 [==============================] - 1s 6ms/step - loss: 4.2216\n",
            "Epoch 55/100\n",
            "94/94 [==============================] - 0s 5ms/step - loss: 4.2262\n",
            "Epoch 56/100\n",
            "94/94 [==============================] - 1s 5ms/step - loss: 4.1911\n",
            "Epoch 57/100\n",
            "94/94 [==============================] - 1s 6ms/step - loss: 4.2033\n",
            "Epoch 58/100\n",
            "94/94 [==============================] - 0s 4ms/step - loss: 4.1683\n",
            "Epoch 59/100\n",
            "94/94 [==============================] - 0s 5ms/step - loss: 4.1761\n",
            "Epoch 60/100\n",
            "94/94 [==============================] - 0s 4ms/step - loss: 4.1627\n",
            "Epoch 61/100\n",
            "94/94 [==============================] - 0s 4ms/step - loss: 4.1824\n",
            "Epoch 62/100\n",
            "94/94 [==============================] - 0s 4ms/step - loss: 4.1812\n",
            "Epoch 63/100\n",
            "94/94 [==============================] - 0s 5ms/step - loss: 4.1627\n",
            "Epoch 64/100\n",
            "94/94 [==============================] - 0s 4ms/step - loss: 4.2311\n",
            "Epoch 65/100\n",
            "94/94 [==============================] - 0s 4ms/step - loss: 4.1558\n",
            "Epoch 66/100\n",
            "94/94 [==============================] - 0s 4ms/step - loss: 4.1479\n",
            "Epoch 67/100\n",
            "94/94 [==============================] - 0s 5ms/step - loss: 4.1496\n",
            "Epoch 68/100\n",
            "94/94 [==============================] - 0s 5ms/step - loss: 4.1421\n",
            "Epoch 69/100\n",
            "94/94 [==============================] - 0s 5ms/step - loss: 4.2199\n",
            "Epoch 70/100\n",
            "94/94 [==============================] - 0s 4ms/step - loss: 4.1307\n",
            "Epoch 71/100\n",
            "94/94 [==============================] - 0s 4ms/step - loss: 4.1138\n",
            "Epoch 72/100\n",
            "94/94 [==============================] - 0s 4ms/step - loss: 4.1393\n",
            "Epoch 73/100\n",
            "94/94 [==============================] - 0s 4ms/step - loss: 4.1036\n",
            "Epoch 74/100\n",
            "94/94 [==============================] - 0s 4ms/step - loss: 4.1084\n",
            "Epoch 75/100\n",
            "94/94 [==============================] - 0s 4ms/step - loss: 4.1016\n",
            "Epoch 76/100\n",
            "94/94 [==============================] - 0s 5ms/step - loss: 4.0888\n",
            "Epoch 77/100\n",
            "94/94 [==============================] - 0s 5ms/step - loss: 4.1042\n",
            "Epoch 78/100\n",
            "94/94 [==============================] - 0s 4ms/step - loss: 4.0796\n",
            "Epoch 79/100\n",
            "94/94 [==============================] - 0s 5ms/step - loss: 4.1145\n",
            "Epoch 80/100\n",
            "94/94 [==============================] - 0s 4ms/step - loss: 4.0947\n",
            "Epoch 81/100\n",
            "94/94 [==============================] - 0s 5ms/step - loss: 4.0872\n",
            "Epoch 82/100\n",
            "94/94 [==============================] - 0s 4ms/step - loss: 4.0868\n",
            "Epoch 83/100\n",
            "94/94 [==============================] - 0s 4ms/step - loss: 4.0715\n",
            "Epoch 84/100\n",
            "94/94 [==============================] - 0s 4ms/step - loss: 4.0680\n",
            "Epoch 85/100\n",
            "94/94 [==============================] - 0s 4ms/step - loss: 4.0579\n",
            "Epoch 86/100\n",
            "94/94 [==============================] - 0s 5ms/step - loss: 4.0773\n",
            "Epoch 87/100\n",
            "94/94 [==============================] - 0s 5ms/step - loss: 4.0624\n",
            "Epoch 88/100\n",
            "94/94 [==============================] - 0s 5ms/step - loss: 4.0663\n",
            "Epoch 89/100\n",
            "94/94 [==============================] - 0s 5ms/step - loss: 4.0410\n",
            "Epoch 90/100\n",
            "94/94 [==============================] - 0s 5ms/step - loss: 4.0492\n",
            "Epoch 91/100\n",
            "94/94 [==============================] - 0s 4ms/step - loss: 4.0526\n",
            "Epoch 92/100\n",
            "94/94 [==============================] - 0s 4ms/step - loss: 4.0496\n",
            "Epoch 93/100\n",
            "94/94 [==============================] - 0s 5ms/step - loss: 4.0502\n",
            "Epoch 94/100\n",
            "94/94 [==============================] - 0s 5ms/step - loss: 4.0414\n",
            "Epoch 95/100\n",
            "94/94 [==============================] - 0s 5ms/step - loss: 4.0308\n",
            "Epoch 96/100\n",
            "94/94 [==============================] - 0s 5ms/step - loss: 4.0423\n",
            "Epoch 97/100\n",
            "94/94 [==============================] - 0s 4ms/step - loss: 4.0357\n",
            "Epoch 98/100\n",
            "94/94 [==============================] - 0s 4ms/step - loss: 4.0302\n",
            "Epoch 99/100\n",
            "94/94 [==============================] - 0s 5ms/step - loss: 4.0593\n",
            "Epoch 100/100\n",
            "94/94 [==============================] - 0s 4ms/step - loss: 4.0269\n"
          ],
          "name": "stdout"
        },
        {
          "output_type": "execute_result",
          "data": {
            "text/plain": [
              "<tensorflow.python.keras.callbacks.History at 0x7fb3eb4dd128>"
            ]
          },
          "metadata": {
            "tags": []
          },
          "execution_count": 26
        }
      ]
    },
    {
      "cell_type": "code",
      "metadata": {
        "id": "efhco2rYyIFF",
        "colab_type": "code",
        "colab": {
          "base_uri": "https://localhost:8080/",
          "height": 408
        },
        "outputId": "216afbe1-8bf8-4e7e-9925-bfa54e62a4db"
      },
      "source": [
        "forecast = []\n",
        "for time in range(len(series) - window_size):\n",
        "  forecast.append(model.predict(series[time:time + window_size][np.newaxis]))\n",
        "\n",
        "forecast = forecast[split_time-window_size:]\n",
        "results = np.array(forecast)[:, 0, 0]\n",
        "\n",
        "\n",
        "plt.figure(figsize=(10, 6))\n",
        "\n",
        "plot_series(time_valid, x_valid)\n",
        "plot_series(time_valid, results)"
      ],
      "execution_count": 28,
      "outputs": [
        {
          "output_type": "display_data",
          "data": {
            "image/png": "[encoded data removed]",
            "text/plain": [
              "<Figure size 720x432 with 1 Axes>"
            ]
          },
          "metadata": {
            "tags": []
          }
        }
      ]
    },
    {
      "cell_type": "code",
      "metadata": {
        "id": "-kT6j186YO6K",
        "colab_type": "code",
        "colab": {
          "base_uri": "https://localhost:8080/",
          "height": 34
        },
        "outputId": "68ed5e9f-04d2-4327-e1fc-577577890f4f"
      },
      "source": [
        "tf.keras.metrics.mean_absolute_error(x_valid, results).numpy()\n",
        "# EXPECTED OUTPUT\n",
        "# A Value less than 3"
      ],
      "execution_count": 29,
      "outputs": [
        {
          "output_type": "execute_result",
          "data": {
            "text/plain": [
              "3.7628872"
            ]
          },
          "metadata": {
            "tags": []
          },
          "execution_count": 29
        }
      ]
    },
    {
      "cell_type": "code",
      "metadata": {
        "id": "4uZp78Ym0Y-P",
        "colab_type": "code",
        "colab": {}
      },
      "source": [
        ""
      ],
      "execution_count": 0,
      "outputs": []
    }
  ]
}